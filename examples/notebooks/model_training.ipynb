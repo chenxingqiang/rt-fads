{
    "cells": [
        {
            "cell_type": "markdown",
            "metadata": {},
            "source": [
                "# RT-FADS Model Training Example\n",
                "\n",
                "This notebook demonstrates how to train the MT-HGNN model using real transaction data."
            ]
        },
        {
            "cell_type": "code",
            "execution_count": null,
            "metadata": {},
            "source": [
                "import torch\n",
                "import pandas as pd\n",
                "import numpy as np\n",
                "from rt_fads.models import MTHGNN\n",
                "from rt_fads.training import MTHGNNTrainer\n",
                "from rt_fads.data import FeatureProcessor, GraphBuilder\n",
                "from rt_fads.utils.visualization import plot_training_metrics"
            ]
        },
        {
            "cell_type": "markdown",
            "metadata": {},
            "source": [
                "## 1. Load and Preprocess Data"
            ]
        },
        {
            "cell_type": "code",
            "execution_count": null,
            "metadata": {},
            "source": [
                "# Load configuration\n",
                "config = {\n",
                "    'input_dim': 64,\n",
                "    'hidden_dim': 128,\n",
                "    'output_dim': 2,\n",
                "    'num_heads': 4,\n",
                "    'num_layers': 3,\n",
                "    'dropout': 0.1,\n",
                "    'learning_rate': 0.001\n",
                "}\n",
                "\n",
                "# Load data\n",
                "data = pd.read_csv('path/to/transaction_data.csv')\n",
                "\n",
                "# Initialize processors\n",
                "feature_processor = FeatureProcessor(config)\n",
                "graph_builder = GraphBuilder(config)\n",
                "\n",
                "# Process features\n",
                "features, meta = feature_processor.fit_transform(data)\n",
                "\n",
                "# Build graph\n",
                "edge_index, edge_attr = graph_builder.build_graph(data)"
            ]
        },
        {
            "cell_type": "markdown",
            "metadata": {},
            "source": [
                "## 2. Model Training"
            ]
        },
        {
            "cell_type": "code",
            "execution_count": null,
            "metadata": {},
            "source": [
                "# Initialize model\n",
                "model = MTHGNN(config)\n",
                "\n",
                "# Initialize trainer\n",
                "trainer = MTHGNNTrainer(model, config)\n",
                "\n",
                "# Train model\n",
                "history = trainer.train(\n",
                "    train_loader,\n",
                "    val_loader,\n",
                "    num_epochs=100\n",
                ")\n",
                "\n",
                "# Plot training metrics\n",
                "plot_training_metrics(history)"
            ]
        }
    ],
    "metadata": {
        "kernelspec": {
            "display_name": "Python 3",
            "language": "python",
            "name": "python3"
        }
    }
}
